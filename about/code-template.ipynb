{
 "cells": [
  {
   "cell_type": "markdown",
   "metadata": {},
   "source": [
    "# Tutorial template\n",
    "\n",
    "Author: _Your Name_\n",
    "\n",
    "Here is some short text about what the tutorial will cover (3-4 sentences). More details can be included below.\n",
    "\n",
    "_Include this note block at the top of every code page:_\n",
    "\n",
    ":::{note}\n",
    "You can run this code directly in your browser by clicking on the rocket logo ( <i class=\"fas fa-rocket\"></i> ) at the top of the page, and clicking 'Binder'. This will open a Jupyter Notebook in a [Binder](https://mybinder.org/) environment which is set up to contain everything you need to run the code. **Don't forget to save a local copy if you make any changes!**\n",
    "\n",
    "If you prefer, you can download the Jupyter Notebook file to run locally, by clicking the download logo ( <i class=\"fas fa-download\"></i> ) at the top of the page and selecting '.ipynb'.\n",
    "\n",
    "If you are new to using Jupyter Notebooks, [this guide](https://www.dataquest.io/blog/jupyter-notebook-tutorial/) will help you get started.\n",
    ":::\n",
    "\n",
    "## Prerequisites\n",
    "\n",
    "_All tutorials should have a prerequisites section; just say \"none\" if none are required.\n",
    "If the prerequisites exist on the knowledgebase, please include links to them (e.g. earlier tutorials, necessary core concepts, etc.).\n",
    "If the prerequisites do not exisit on the knowledgebase, please raise a GitHub Issue to ensure they get added in the future (and consider contributing them yourself!)._\n",
    "\n",
    "None.\n",
    "\n",
    "## Introduction\n",
    "\n",
    "_Explain the background and details of the tutorial here. Please provide as much context as you can, and use concrete examples rather than abstract concepts wherever possible. Figures and animations are particularly welcomed!_\n",
    "\n",
    "\n",
    "## Setup\n",
    "\n",
    "_You can include anything here that has been explained in previous lessons, load data, libraries, etc. Each notebook file should run without additional dependencies, so use this section to ensure all necessary setup is complete._\n"
   ]
  },
  {
   "cell_type": "code",
   "execution_count": null,
   "metadata": {},
   "outputs": [],
   "source": [
    "import matplotlib.pyplot as plt\n",
    "from scipy.io.wavfile import write\n",
    "import numpy as np"
   ]
  },
  {
   "cell_type": "markdown",
   "metadata": {},
   "source": [
    "_Note that we recommend all tutorials include visual and audio output wherever possible._\n",
    "\n",
    "## Basic example\n",
    "\n",
    "_The aim with all our tutorials is to introduce a basic working example as early as possible, so that new users can see the value right away. You can then build upon this to introduce more complex ideas as you go on._"
   ]
  },
  {
   "cell_type": "code",
   "execution_count": null,
   "metadata": {},
   "outputs": [],
   "source": [
    "# Simple example code"
   ]
  },
  {
   "cell_type": "markdown",
   "metadata": {},
   "source": [
    "## More details\n",
    "\n",
    "_Once you have introduced the basic example, you can begin to build upon it however you like. Try to keep these sections relatively short. More, shorter sections is better than fewer, longer ones. Note the automatically-generated table on contents on the right hand side: try to make the section headings informative so that they can be used for navigation._\n",
    "\n",
    "Here's some more details and code relating to a specific aspect.\n"
   ]
  },
  {
   "cell_type": "code",
   "execution_count": null,
   "metadata": {},
   "outputs": [],
   "source": [
    "# And here is some more code"
   ]
  },
  {
   "cell_type": "markdown",
   "metadata": {},
   "source": [
    "## Links and references\n",
    "\n",
    "To include an external link to a website, use standard md hyperlink format:\n",
    "```\n",
    "[Link text to click on](www.link-url.com)\n",
    "```\n",
    "If you want to link to another page within the knowledgebase, best practice is to replace the url above with the relative path to the `.md` or `.ipynb` file, without the extension. For example,\n",
    "```\n",
    "[Link to FEM tutorials](../tutorials/fem/fem-tutorials-main)\n",
    "```\n",
    "appears as [Link to FEM tutorials](../tutorials/fem/fem-tutorials-main).\n",
    "\n",
    "To include a reference:\n",
    "1. Add the `bibtex` entry to the `references.bib`, with some tag, e.g. `mytag`\n",
    "2. In your `.ipynb` or `.md` file, write `` {cite}`mytag` `` where you would like your citation to appear\n",
    "3. The full reference will appear in [reference/bibliography.md](../reference/bibliography.md)"
   ]
  },
  {
   "cell_type": "markdown",
   "metadata": {},
   "source": [
    "## Embedding code, images, math...\n",
    "\n",
    "There's lots of information about how to embed code, images, etc. into Jupyter Notebooks in the [Jupyter Books documentation](https://jupyterbook.org/file-types/notebooks.html). MyST markdown is used in both the `.md` and `.ipynb` files throughout the Jupyter Book. For more information about MyST markdown, check out [the MyST guide in Jupyter Book](https://jupyterbook.org/content/myst.html), or see [the MyST markdown documentation](https://myst-parser.readthedocs.io/en/latest/).\n",
    "\n",
    "The most common things you might want to do are embed images, like so:\n",
    "\n",
    "![](https://myst-parser.readthedocs.io/en/latest/_static/logo-wide.svg)\n",
    "\n",
    "Or $add_{math}$ and\n",
    "\n",
    "$$\n",
    "math^{blocks}\n",
    "$$\n",
    "\n",
    "using LaTeX formatting, like so...\n",
    "\n",
    "$$\n",
    "\\begin{aligned}\n",
    "\\mbox{mean} la_{tex} \\\\ \\\\\n",
    "math blocks\n",
    "\\end{aligned}\n",
    "$$\n",
    "\n",
    "## Summary\n",
    "\n",
    "_Please include a few summary bullets describing the main take-aways from the tutorial. Include links to subsequent tutorials if available._\n",
    "\n",
    "* Bullet 1\n",
    "* Bullet 2\n",
    "* Bullet 3"
   ]
  }
 ],
 "metadata": {
  "kernelspec": {
   "display_name": "Python 3 (ipykernel)",
   "language": "python",
   "name": "python3"
  },
  "language_info": {
   "codemirror_mode": {
    "name": "ipython",
    "version": 3
   },
   "file_extension": ".py",
   "mimetype": "text/x-python",
   "name": "python",
   "nbconvert_exporter": "python",
   "pygments_lexer": "ipython3",
   "version": "3.7.11"
  },
  "widgets": {
   "application/vnd.jupyter.widget-state+json": {
    "state": {},
    "version_major": 2,
    "version_minor": 0
   }
  }
 },
 "nbformat": 4,
 "nbformat_minor": 4
}
